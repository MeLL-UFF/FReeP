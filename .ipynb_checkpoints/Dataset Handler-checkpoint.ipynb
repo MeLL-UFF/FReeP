{
 "cells": [
  {
   "cell_type": "code",
   "execution_count": 57,
   "metadata": {
    "collapsed": false
   },
   "outputs": [
    {
     "data": {
      "text/html": [
       "<div>\n",
       "<table border=\"1\" class=\"dataframe\">\n",
       "  <thead>\n",
       "    <tr style=\"text-align: right;\">\n",
       "      <th></th>\n",
       "      <th>tag_id</th>\n",
       "      <th>tag_name</th>\n",
       "    </tr>\n",
       "  </thead>\n",
       "  <tbody>\n",
       "    <tr>\n",
       "      <th>328</th>\n",
       "      <td>328</td>\n",
       "      <td>14艺术美学</td>\n",
       "    </tr>\n",
       "    <tr>\n",
       "      <th>23864</th>\n",
       "      <td>23864</td>\n",
       "      <td>poetry-诗歌</td>\n",
       "    </tr>\n",
       "    <tr>\n",
       "      <th>34236</th>\n",
       "      <td>34236</td>\n",
       "      <td>中文</td>\n",
       "    </tr>\n",
       "    <tr>\n",
       "      <th>34237</th>\n",
       "      <td>34237</td>\n",
       "      <td>叶红</td>\n",
       "    </tr>\n",
       "    <tr>\n",
       "      <th>34238</th>\n",
       "      <td>34238</td>\n",
       "      <td>小說-奇幻小說</td>\n",
       "    </tr>\n",
       "    <tr>\n",
       "      <th>34239</th>\n",
       "      <td>34239</td>\n",
       "      <td>日本</td>\n",
       "    </tr>\n",
       "    <tr>\n",
       "      <th>34240</th>\n",
       "      <td>34240</td>\n",
       "      <td>日本文学</td>\n",
       "    </tr>\n",
       "    <tr>\n",
       "      <th>34241</th>\n",
       "      <td>34241</td>\n",
       "      <td>日本語</td>\n",
       "    </tr>\n",
       "    <tr>\n",
       "      <th>34242</th>\n",
       "      <td>34242</td>\n",
       "      <td>漫画</td>\n",
       "    </tr>\n",
       "  </tbody>\n",
       "</table>\n",
       "</div>"
      ],
      "text/plain": [
       "       tag_id   tag_name\n",
       "328       328     14艺术美学\n",
       "23864   23864  poetry-诗歌\n",
       "34236   34236         中文\n",
       "34237   34237         叶红\n",
       "34238   34238    小說-奇幻小說\n",
       "34239   34239         日本\n",
       "34240   34240       日本文学\n",
       "34241   34241        日本語\n",
       "34242   34242         漫画"
      ]
     },
     "execution_count": 57,
     "metadata": {},
     "output_type": "execute_result"
    }
   ],
   "source": [
    "import pandas as pd\n",
    "import numpy as np\n",
    "import re\n",
    "\n",
    "def ascii_check(string):\n",
    "    try:\n",
    "        string.decode('ascii')\n",
    "    except UnicodeDecodeError:\n",
    "        return False\n",
    "    else:\n",
    "        return True\n",
    "\n",
    "#leio todos os livros\n",
    "books = pd.read_csv('datasets/goodbooks-10k/books.csv')\n",
    "books = books.filter(items=['book_id', 'original_title']).sort_values('book_id')\n",
    "\n",
    "#leio as tags associadas aos livros\n",
    "books_tags = pd.read_csv('datasets/goodbooks-10k/book_tags.csv')\n",
    "\n",
    "#join das duas tabelas\n",
    "joined_books_tags = pd.merge(books, books_tags, how='left', left_on=['book_id'], right_on=['goodreads_book_id']).filter(items=['book_id', 'original_title', 'tag_id'])\n",
    "\n",
    "tags = pd.read_csv('datasets/goodbooks-10k/tags.csv')\n",
    "\n",
    "books_tags_names = pd.merge(joined_books_tags, tags).filter(items=['book_id', 'original_title', 'tag_name'])\n",
    "books_tags_names\n",
    "\n",
    "tags\n",
    "\n",
    "\n",
    "tags[tags['tag_name'].str.contains('[\\u4e00-\\u9fff]')]\n",
    "\n",
    "# use pd.concat to join the new columns with your original dataframe\n",
    "# df = pd.get_dummies(books_tags_names['tag_name'], prefix='tag',sparse=True)\n",
    "# df\n",
    "# now drop the original 'country' column (you don't need it anymore)\n",
    "# df.drop(['tag_name'],axis=1, inplace=True)"
   ]
  },
  {
   "cell_type": "code",
   "execution_count": null,
   "metadata": {
    "collapsed": true
   },
   "outputs": [],
   "source": []
  }
 ],
 "metadata": {
  "kernelspec": {
   "display_name": "Python 3",
   "language": "python",
   "name": "python3"
  },
  "language_info": {
   "codemirror_mode": {
    "name": "ipython",
    "version": 3
   },
   "file_extension": ".py",
   "mimetype": "text/x-python",
   "name": "python",
   "nbconvert_exporter": "python",
   "pygments_lexer": "ipython3",
   "version": "3.6.0"
  }
 },
 "nbformat": 4,
 "nbformat_minor": 2
}
