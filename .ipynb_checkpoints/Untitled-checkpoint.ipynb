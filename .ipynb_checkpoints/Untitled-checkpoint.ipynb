{
 "cells": [
  {
   "cell_type": "code",
   "execution_count": null,
   "metadata": {},
   "outputs": [],
   "source": [
    "from graph_generator import GraphGenerator\n",
    "\n",
    "\n",
    "precision_path = 'categorical_precision.pdf'\n",
    "recall_path = 'categorical_recall.pdf'\n",
    "\n",
    "graph_data = pd.read_csv('categorical_results.csv', float_precision='round_trip', sep=';')\n",
    "graph_generator = GraphGenerator()\n",
    "graph_generator.bar_graph(graph_data, precision_path, \"PARTITIONER\", \"PRECISION\", \"CLASSIFIER\", \"PRECISION\")\n",
    "graph_generator.bar_graph(graph_data, recall_path, \"PARTITIONER\", \"RECALL\", \"CLASSIFIER\", \"RECALL\")\n"
   ]
  }
 ],
 "metadata": {
  "kernelspec": {
   "display_name": "Python 3",
   "language": "python",
   "name": "python3"
  },
  "language_info": {
   "codemirror_mode": {
    "name": "ipython",
    "version": 3
   },
   "file_extension": ".py",
   "mimetype": "text/x-python",
   "name": "python",
   "nbconvert_exporter": "python",
   "pygments_lexer": "ipython3",
   "version": "3.6.5"
  }
 },
 "nbformat": 4,
 "nbformat_minor": 2
}
